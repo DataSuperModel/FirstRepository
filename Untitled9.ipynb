{
  "nbformat": 4,
  "nbformat_minor": 0,
  "metadata": {
    "colab": {
      "name": "Untitled9.ipynb",
      "provenance": [],
      "mount_file_id": "1LqM8dushf3moyLsTskkEevVOqAdBfpAe",
      "authorship_tag": "ABX9TyNSbFMyc5Md7vEnh5Rpd9gI",
      "include_colab_link": true
    },
    "kernelspec": {
      "name": "python3",
      "display_name": "Python 3"
    },
    "language_info": {
      "name": "python"
    }
  },
  "cells": [
    {
      "cell_type": "markdown",
      "metadata": {
        "id": "view-in-github",
        "colab_type": "text"
      },
      "source": [
        "<a href=\"https://colab.research.google.com/github/DataSuperModel/FirstRepository/blob/main/Untitled9.ipynb\" target=\"_parent\"><img src=\"https://colab.research.google.com/assets/colab-badge.svg\" alt=\"Open In Colab\"/></a>"
      ]
    },
    {
      "cell_type": "code",
      "source": [
        "import pandas as pd\n"
      ],
      "metadata": {
        "id": "_RXMhGC9wwyG"
      },
      "execution_count": null,
      "outputs": []
    },
    {
      "cell_type": "code",
      "execution_count": null,
      "metadata": {
        "id": "vF05mC6nweZ_"
      },
      "outputs": [],
      "source": [
        "filename = '/content/drive/MyDrive/Coding Dojo/Week 1/sales_predictions.csv'\n",
        "df = pd.read_csv(filename)"
      ]
    }
  ]
}